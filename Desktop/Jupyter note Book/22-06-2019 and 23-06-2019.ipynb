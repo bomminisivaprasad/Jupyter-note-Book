{
 "cells": [
  {
   "cell_type": "markdown",
   "metadata": {},
   "source": [
    "### Date: 22 June 2019\n",
    "#### Day Objectives\n",
    "- File Handling\n",
    "    - Basic File Data Processing\n",
    "        - Acessing and Modifying File Data \n",
    "    - Character Count \n",
    "    - Line Count\n",
    "    - FileSize\n",
    "    - word count\n",
    "    - UniqueWord Count"
   ]
  },
  {
   "cell_type": "code",
   "execution_count": 27,
   "metadata": {},
   "outputs": [
    {
     "name": "stdout",
     "output_type": "stream",
     "text": [
      "9\n"
     ]
    },
    {
     "data": {
      "text/plain": [
       "['siva',\n",
       " 'prasad',\n",
       " 'sanhdya',\n",
       " 'prabhu',\n",
       " 'ravi',\n",
       " 'kiran',\n",
       " 'javaya',\n",
       " 'lakshmi',\n",
       " 'kesavarao']"
      ]
     },
     "execution_count": 27,
     "metadata": {},
     "output_type": "execute_result"
    }
   ],
   "source": [
    "# Read a File - Files should exist(read mode)\n",
    "# write to a File - Existing(append mode) or New file(write mode)\n",
    "# Function to read entire file data into  a list of lines\n",
    "# Each elemrent in the list is one line in the file\n",
    "import re\n",
    "\n",
    "def readfile(filePath):\n",
    "    uniword=[]\n",
    "    count=0\n",
    "    with open(filePath,'r') as f:\n",
    "        pattern= '[ \\n]' \n",
    "        uniwork=[]\n",
    "        filedata = f.read() # Gets the entire data into string\n",
    "        char=len(filedata)\n",
    "        lines = filedata.split('\\n') ## Gets each line of the file into the list.\n",
    "        count=len(re.split(pattern,filedata))\n",
    "        list=filedata.split()\n",
    "        for word in list:\n",
    "            if word not in uniword:\n",
    "                uniword.append(word)\n",
    "        print(len(uniword))\n",
    "        return uniword\n",
    "    \n",
    "filePath=\"data.txt\"\n",
    "readfile(filePath)\n"
   ]
  },
  {
   "cell_type": "code",
   "execution_count": 12,
   "metadata": {},
   "outputs": [
    {
     "data": {
      "text/plain": [
       "[1, 2, 3, 4, 5]"
      ]
     },
     "execution_count": 12,
     "metadata": {},
     "output_type": "execute_result"
    }
   ],
   "source": [
    "# Function to get  unique elements in a list\n",
    "# Create  empty unique list []\n",
    "# Check with unique list if it is ther ok not add the data\n",
    "\n",
    "def uniqueData(li):\n",
    "    # Create an  empty unique list\n",
    "    unique= []\n",
    "    \n",
    "    # For every elemet int he main list, checkd if it exists in main list\n",
    "    # if it does not exist, add it to unique list\n",
    "    # else if it already exists, move on to the a\n",
    "    \n",
    "    for element in li:\n",
    "        if element not in unique:\n",
    "            unique.append(element)\n",
    "    return unique\n",
    "li=[1,2,3,4,5,1,2,4,5]\n",
    "uniqueData(li)  \n",
    "        \n"
   ]
  },
  {
   "cell_type": "code",
   "execution_count": null,
   "metadata": {},
   "outputs": [],
   "source": []
  },
  {
   "cell_type": "code",
   "execution_count": null,
   "metadata": {},
   "outputs": [],
   "source": []
  },
  {
   "cell_type": "code",
   "execution_count": null,
   "metadata": {},
   "outputs": [],
   "source": []
  },
  {
   "cell_type": "code",
   "execution_count": null,
   "metadata": {},
   "outputs": [],
   "source": []
  },
  {
   "cell_type": "code",
   "execution_count": null,
   "metadata": {},
   "outputs": [],
   "source": []
  },
  {
   "cell_type": "code",
   "execution_count": null,
   "metadata": {},
   "outputs": [],
   "source": []
  },
  {
   "cell_type": "code",
   "execution_count": null,
   "metadata": {},
   "outputs": [],
   "source": []
  },
  {
   "cell_type": "code",
   "execution_count": 4,
   "metadata": {},
   "outputs": [
    {
     "name": "stdout",
     "output_type": "stream",
     "text": [
      "Enter lower range: 3\n",
      "Enter upper range: 19\n",
      "3\n",
      "5\n",
      "7\n",
      "11\n",
      "13\n",
      "17\n",
      "19\n"
     ]
    }
   ],
   "source": [
    "lower = int(input(\"Enter lower range: \"))  \n",
    "upper = int(input(\"Enter upper range: \"))  \n",
    "  \n",
    "for num in range(lower,upper + 1):  \n",
    "   if num > 1:  \n",
    "       for i in range(2,num):  \n",
    "           if (num % i) == 0:  \n",
    "               break  \n",
    "       else:  \n",
    "           print(num) "
   ]
  },
  {
   "cell_type": "code",
   "execution_count": 9,
   "metadata": {},
   "outputs": [
    {
     "name": "stdout",
     "output_type": "stream",
     "text": [
      "ada\n",
      "NO\n",
      "ada\n"
     ]
    }
   ],
   "source": [
    "pal=input()\n",
    "rev=pal[::-1]\n",
    "if pal == rev:\n",
    "     print(\"YES\")\n",
    "else:\n",
    "    print(\"NO\")\n"
   ]
  },
  {
   "cell_type": "code",
   "execution_count": 11,
   "metadata": {},
   "outputs": [
    {
     "name": "stdout",
     "output_type": "stream",
     "text": [
      "The factorial of 23 is : 6\n"
     ]
    }
   ],
   "source": [
    "n = 3\n",
    "fact = 1\n",
    "  \n",
    "for i in range(1,n+1): \n",
    "    fact = fact * i \n",
    "      \n",
    "print (\"The factorial of 23 is : \",end=\"\") \n",
    "print (fact)"
   ]
  },
  {
   "cell_type": "code",
   "execution_count": 15,
   "metadata": {},
   "outputs": [
    {
     "name": "stdout",
     "output_type": "stream",
     "text": [
      "6\n"
     ]
    },
    {
     "ename": "TypeError",
     "evalue": "'int' object is not iterable",
     "output_type": "error",
     "traceback": [
      "\u001b[1;31m---------------------------------------------------------------------------\u001b[0m",
      "\u001b[1;31mTypeError\u001b[0m                                 Traceback (most recent call last)",
      "\u001b[1;32m<ipython-input-15-ea792ebd0ea3>\u001b[0m in \u001b[0;36m<module>\u001b[1;34m\u001b[0m\n\u001b[0;32m      1\u001b[0m \u001b[0mele\u001b[0m\u001b[1;33m=\u001b[0m\u001b[0mint\u001b[0m\u001b[1;33m(\u001b[0m\u001b[0minput\u001b[0m\u001b[1;33m(\u001b[0m\u001b[1;33m)\u001b[0m\u001b[1;33m)\u001b[0m\u001b[1;33m\u001b[0m\u001b[1;33m\u001b[0m\u001b[0m\n\u001b[0;32m      2\u001b[0m \u001b[0mstring\u001b[0m\u001b[1;33m=\u001b[0m\u001b[1;33m[\u001b[0m\u001b[1;33m]\u001b[0m\u001b[1;33m\u001b[0m\u001b[1;33m\u001b[0m\u001b[0m\n\u001b[1;32m----> 3\u001b[1;33m \u001b[1;32mfor\u001b[0m \u001b[0mi\u001b[0m \u001b[1;32min\u001b[0m  \u001b[0mele\u001b[0m\u001b[1;33m:\u001b[0m\u001b[1;33m\u001b[0m\u001b[1;33m\u001b[0m\u001b[0m\n\u001b[0m\u001b[0;32m      4\u001b[0m     \u001b[0mprint\u001b[0m\u001b[1;33m(\u001b[0m\u001b[0mi\u001b[0m\u001b[1;33m)\u001b[0m\u001b[1;33m\u001b[0m\u001b[1;33m\u001b[0m\u001b[0m\n",
      "\u001b[1;31mTypeError\u001b[0m: 'int' object is not iterable"
     ]
    }
   ],
   "source": [
    "ele=int(input())\n",
    "string=[]\n",
    "for i in  ele:\n",
    "    print(i)"
   ]
  },
  {
   "cell_type": "code",
   "execution_count": 18,
   "metadata": {},
   "outputs": [
    {
     "name": "stdout",
     "output_type": "stream",
     "text": [
      " sHIVA pRASAD\n",
      "Shiva Prasad\n"
     ]
    }
   ],
   "source": [
    "string =input(\" \")\n",
    "newstring ='' \n",
    "count1 = 0\n",
    "count2 = 0\n",
    "count3 = 0\n",
    "  \n",
    "for a in string: \n",
    "# Checking for lowercase letter and converting to uppercase. \n",
    "    if (a.isupper()) == True: \n",
    "        count1+= 1\n",
    "        newstring+=(a.lower()) \n",
    "# Checking for uppercase letter and converting to lowercase. \n",
    "    elif (a.islower()) == True: \n",
    "        count2+= 1\n",
    "        newstring+=(a.upper()) \n",
    "# Checking for whitespace letter and adding it to the new string as it is. \n",
    "    elif (a.isspace()) == True: \n",
    "        count3+= 1\n",
    "        newstring+= a \n",
    "# print(\"In original String : \") \n",
    "# print(\"Uppercase -\", count1) \n",
    "# print(\"Lowercase -\", count2) \n",
    "# print(\"Spaces -\", count3) \n",
    "  \n",
    "# print(\"After changing cases:\") \n",
    "print(newstring) "
   ]
  },
  {
   "cell_type": "code",
   "execution_count": 19,
   "metadata": {},
   "outputs": [
    {
     "name": "stdout",
     "output_type": "stream",
     "text": [
      " Siva\n",
      "sIVA\n"
     ]
    }
   ],
   "source": [
    "string =input(\" \")\n",
    "newstring ='' \n",
    "for a in string:\n",
    "    if (a.isupper()) == True: \n",
    "        newstring+=(a.lower())\n",
    "    elif (a.islower()) == True: \n",
    "        newstring+=(a.upper())\n",
    "    elif (a.isspace()) == True: \n",
    "        newstring+= a \n",
    "print(newstring) "
   ]
  },
  {
   "cell_type": "code",
   "execution_count": null,
   "metadata": {},
   "outputs": [],
   "source": []
  },
  {
   "cell_type": "code",
   "execution_count": null,
   "metadata": {},
   "outputs": [],
   "source": []
  },
  {
   "cell_type": "code",
   "execution_count": null,
   "metadata": {},
   "outputs": [],
   "source": []
  },
  {
   "cell_type": "code",
   "execution_count": null,
   "metadata": {},
   "outputs": [],
   "source": []
  },
  {
   "cell_type": "code",
   "execution_count": null,
   "metadata": {},
   "outputs": [],
   "source": []
  },
  {
   "cell_type": "code",
   "execution_count": null,
   "metadata": {},
   "outputs": [],
   "source": []
  },
  {
   "cell_type": "code",
   "execution_count": null,
   "metadata": {},
   "outputs": [],
   "source": []
  }
 ],
 "metadata": {
  "kernelspec": {
   "display_name": "Python 3",
   "language": "python",
   "name": "python3"
  },
  "language_info": {
   "codemirror_mode": {
    "name": "ipython",
    "version": 3
   },
   "file_extension": ".py",
   "mimetype": "text/x-python",
   "name": "python",
   "nbconvert_exporter": "python",
   "pygments_lexer": "ipython3",
   "version": "3.7.3"
  }
 },
 "nbformat": 4,
 "nbformat_minor": 2
}
