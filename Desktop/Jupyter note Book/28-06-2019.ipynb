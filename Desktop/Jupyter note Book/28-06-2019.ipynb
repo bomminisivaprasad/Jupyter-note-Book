{
 "cells": [
  {
   "cell_type": "markdown",
   "metadata": {},
   "source": [
    "### Day Objectives\n",
    "- Map\n",
    "- Lambda\n",
    "- Filter\n",
    "- Use cases - File / Data Encryption"
   ]
  },
  {
   "cell_type": "markdown",
   "metadata": {},
   "source": [
    "### Map\n",
    "\n",
    "\n",
    "Mapping - entity with Function\n",
    "\n",
    "f:X^2 + 3*x+ 9\n",
    "x : [1,10]\n",
    "\n",
    "f(x)\n",
    "\n",
    "f(1) -> 13\n",
    "f(2) -> 13\n",
    "..........\n",
    "..........\n",
    "\n",
    "f : x^2\n",
    "x   y\n",
    "1   2\n",
    "2   4\n",
    "3   9\n",
    "\n",
    "\n",
    "map(function, Iterable)\n",
    "\n",
    "\n",
    "\n",
    "\n",
    "\n"
   ]
  },
  {
   "cell_type": "code",
   "execution_count": 9,
   "metadata": {},
   "outputs": [
    {
     "data": {
      "text/plain": [
       "25"
      ]
     },
     "execution_count": 9,
     "metadata": {},
     "output_type": "execute_result"
    }
   ],
   "source": [
    "def powerN(a,n):\n",
    "    p=1\n",
    "    for i in range(1,n+1):\n",
    "        p=p*a\n",
    "    return p\n",
    "powerN(5,2)\n",
    "\n",
    "    "
   ]
  },
  {
   "cell_type": "code",
   "execution_count": 6,
   "metadata": {},
   "outputs": [
    {
     "data": {
      "text/plain": [
       "25"
      ]
     },
     "execution_count": 6,
     "metadata": {},
     "output_type": "execute_result"
    }
   ],
   "source": [
    "def recursivePowerN(a,n):\n",
    "    if n == 0:\n",
    "        return 1\n",
    "    else:\n",
    "        return a* recursivePowerN(a,n-1)\n",
    "recursivePowerN(5,2)"
   ]
  },
  {
   "cell_type": "code",
   "execution_count": 43,
   "metadata": {},
   "outputs": [
    {
     "data": {
      "text/plain": [
       "[1, 8, 27, 64, 125, 216]"
      ]
     },
     "execution_count": 43,
     "metadata": {},
     "output_type": "execute_result"
    }
   ],
   "source": [
    "def cube(n):\n",
    "    return n ** 3\n",
    "li=[1,2,3,4,5,6]\n",
    "li2=list (map(int,li))\n",
    "tuple(map(float,li2))\n",
    "number=[int(i)for i in li]\n",
    "[cube(i) for i in number]\n",
    "# set(map(cube,li))\n"
   ]
  },
  {
   "cell_type": "markdown",
   "metadata": {},
   "source": [
    "### Filter\n",
    "Used to check boolean values"
   ]
  },
  {
   "cell_type": "code",
   "execution_count": 32,
   "metadata": {},
   "outputs": [
    {
     "data": {
      "text/plain": [
       "['a', 'b']"
      ]
     },
     "execution_count": 32,
     "metadata": {},
     "output_type": "execute_result"
    }
   ],
   "source": [
    "li=[1,2,'a','b',3]\n",
    "def isDigit(c):\n",
    "    c=str(c)\n",
    "    if c.isdigit():\n",
    "        return True\n",
    "    return False\n",
    "isDigit('a')\n",
    "\n",
    "list(filter(isDigit,li))\n"
   ]
  },
  {
   "cell_type": "code",
   "execution_count": 42,
   "metadata": {},
   "outputs": [
    {
     "name": "stdout",
     "output_type": "stream",
     "text": [
      "[503, 509, 521, 523, 541, 547, 557, 563, 569, 571, 577, 587, 593, 599]\n",
      "[503, 509, 521, 523, 541, 547, 557, 563, 569, 571, 577, 587, 593, 599]\n"
     ]
    }
   ],
   "source": [
    "# Identify all primes in  a range\n",
    "\n",
    "def checkPrime(n):\n",
    "    if n< 2:\n",
    "        return False\n",
    "    for i in range(2,n//2 + 1):\n",
    "        if n%i == 0:\n",
    "            return False\n",
    "    return True\n",
    "lb,ub= 500,600\n",
    "primList=list(filter(checkPrime,range(lb,ub+1)))\n",
    "primList\n",
    "primeList2=[i for i in range (lb,ub+1) if checkPrime(i)]\n",
    "\n",
    "# Map fails because it doesnt apply for check codition\n",
    "\n",
    "print(primeList2)\n",
    "print(primList)\n"
   ]
  },
  {
   "cell_type": "markdown",
   "metadata": {},
   "source": [
    "\n",
    "### Lambda\n",
    "  \n",
    "Anonymous Function\n",
    "\n",
    "Can be embedded into Lists Comprehension,maps,Filters\n"
   ]
  },
  {
   "cell_type": "code",
   "execution_count": 52,
   "metadata": {},
   "outputs": [
    {
     "data": {
      "text/plain": [
       "[2, 4, 6]"
      ]
     },
     "execution_count": 52,
     "metadata": {},
     "output_type": "execute_result"
    }
   ],
   "source": [
    "a=lambda x: x**3\n",
    "list(map(lambda x:x**3,[1,2,3,4,5,6]))\n",
    "list(filter(lambda x: (x % 2==0),[1,2,3,4,5,6]))"
   ]
  },
  {
   "cell_type": "code",
   "execution_count": 58,
   "metadata": {},
   "outputs": [
    {
     "data": {
      "text/plain": [
       "[9, 8, 8]"
      ]
     },
     "execution_count": 58,
     "metadata": {},
     "output_type": "execute_result"
    }
   ],
   "source": [
    "from random import randint\n",
    "\n",
    "internal1=[randint(0,25) for i in range(10)]\n",
    "internal2=[randint(0,25) for i in range(10)]\n",
    "internal3=[randint(0,25) for i in range(10)]\n",
    "\n",
    "avgInternal = list(map(lambda x,y,z: (x+y+z)//3,internal1,internal2,internal3))\n",
    "avgInternal            \n",
    "failList=list(filter(lambda x:x<10,avgInternal))\n",
    "failList"
   ]
  },
  {
   "cell_type": "markdown",
   "metadata": {},
   "source": [
    "### Aplying functional programing to the Marks Analysis application"
   ]
  },
  {
   "cell_type": "code",
   "execution_count": 59,
   "metadata": {},
   "outputs": [
    {
     "data": {
      "text/plain": [
       "[3, 17, 9, 18, 15, 9, 1, 18, 24, 24]"
      ]
     },
     "execution_count": 59,
     "metadata": {},
     "output_type": "execute_result"
    }
   ],
   "source": [
    "\n",
    "# Generate marks data\n",
    "\n",
    "def generatemarksdata():\n",
    "    marks = [randint(0,25) for i in range(10)]\n",
    "    return marks\n",
    "generatemarksdata()\n",
    "\n"
   ]
  },
  {
   "cell_type": "code",
   "execution_count": 61,
   "metadata": {},
   "outputs": [],
   "source": [
    "from random import randint\n",
    "def generatemarks(n,lb,ub):\n",
    "    filename = 'marks1.txt'\n",
    "    with open(filename,'w')as f:\n",
    "        for i in range(n):\n",
    "            marks = randint(lb,ub)\n",
    "            f.write(str(marks)+'\\n')\n",
    "    return \n",
    "generatemarks(300,0,100)"
   ]
  },
  {
   "cell_type": "code",
   "execution_count": 63,
   "metadata": {},
   "outputs": [],
   "source": [
    "def readmarkslist(filepath):\n",
    "    with open(filepath,'r') as f:\n",
    "        str_marks = f.read().split('\\n')\n",
    "    str_marks.pop()\n",
    "    int_marks_list = list(map(int,str_marks))\n",
    "    return int_marks_list\n"
   ]
  },
  {
   "cell_type": "code",
   "execution_count": 65,
   "metadata": {},
   "outputs": [
    {
     "data": {
      "text/plain": [
       "47"
      ]
     },
     "execution_count": 65,
     "metadata": {},
     "output_type": "execute_result"
    }
   ],
   "source": [
    "def classaverage(filepath):\n",
    "    with open(filepath,'r') as f:\n",
    "        filedata = f.read().split()\n",
    "        \n",
    "        #markslist = re.split('\\n',filedata)\n",
    "        markslist = list(map(int, filedata))\n",
    "        return sum(markslist)//len(markslist)\n",
    "filename = 'marks1.txt'\n",
    "classaverage(filename)\n"
   ]
  },
  {
   "cell_type": "code",
   "execution_count": 66,
   "metadata": {},
   "outputs": [
    {
     "data": {
      "text/plain": [
       "129"
      ]
     },
     "execution_count": 66,
     "metadata": {},
     "output_type": "execute_result"
    }
   ],
   "source": [
    "def percentagefailed(filepath):\n",
    "    markslist = readmarkslist(filepath)\n",
    "    failedcount = len(list(filter(lambda mark: mark< 40, markslist)))\n",
    "    return failedcount\n",
    "percentagefailed('marks1.txt')"
   ]
  },
  {
   "cell_type": "markdown",
   "metadata": {},
   "source": [
    "### Data Encryption\n",
    "key - Mapping of Charcters with replace\n",
    "\n",
    "0 ->4\n",
    "1 ->5\n",
    "2 ->6\n",
    "3 ->7\n",
    "4 ->8\n",
    "5 ->9\n",
    "6 ->0\n",
    "7 ->1\n",
    "8 ->2\n",
    "9 ->3\n"
   ]
  },
  {
   "cell_type": "code",
   "execution_count": 79,
   "metadata": {},
   "outputs": [],
   "source": [
    "# Function to generate key for encryption\n",
    "\n",
    "keypath =\"key.txt\"\n",
    "def generateKey(keypath):\n",
    "    with open (keypath,'w') as f:\n",
    "        for i in range(10):\n",
    "            if i < 6:\n",
    "                f.write(str(i)+ ' ' + str(i+4)+ '\\n')\n",
    "            else:\n",
    "                f.write(str(i)+ ' ' +str(i-6)+ '\\n')\n",
    "    return\n",
    "generateKey(keypath)          "
   ]
  },
  {
   "cell_type": "code",
   "execution_count": 80,
   "metadata": {},
   "outputs": [
    {
     "data": {
      "text/plain": [
       "{'0': '4',\n",
       " '1': '5',\n",
       " '2': '6',\n",
       " '3': '7',\n",
       " '4': '8',\n",
       " '5': '9',\n",
       " '6': '0',\n",
       " '7': '1',\n",
       " '8': '2',\n",
       " '9': '3'}"
      ]
     },
     "execution_count": 80,
     "metadata": {},
     "output_type": "execute_result"
    }
   ],
   "source": [
    "# Function to encrypt a dta file\n",
    "keyfile='key.txt'\n",
    "def dictionarykeyFile(keyfile):\n",
    "    key ={}\n",
    "    with open(keyfile,'r') as f:\n",
    "        for line in f:\n",
    "            line = line.split()\n",
    "            key[line[0]] = line[1]\n",
    "    return key\n",
    "dictionarykeyFile(keyfile)\n",
    "# def encryptMarksdata(datafile,keyfile):\n",
    "    \n",
    "    # construct a dictionary for key data  "
   ]
  },
  {
   "cell_type": "code",
   "execution_count": null,
   "metadata": {},
   "outputs": [],
   "source": [
    "li=[3,2,1,5,6,7]"
   ]
  },
  {
   "cell_type": "code",
   "execution_count": 81,
   "metadata": {},
   "outputs": [],
   "source": [
    "def encryptedmarksdata(datafile,keyfile):\n",
    "    # construct a dictionary for key data\n",
    "    key = dictionarykeyFile(keyfile)\n",
    "    with open(datafile,'r') as f:\n",
    "        filedata = f.read().split('\\n')\n",
    "    with open('encrypt.txt','w') as f:\n",
    "        for mark in filedata:\n",
    "            line = ''\n",
    "            for n in mark:\n",
    "                line += key[n]\n",
    "            f.write(line+'\\n')\n",
    "    return\n",
    "datafile=\"marks.txt\" \n",
    "encryptedmarksdata(datafile,keyfile)                    "
   ]
  },
  {
   "cell_type": "code",
   "execution_count": null,
   "metadata": {},
   "outputs": [],
   "source": [
    "def decryptedmarksdata(datafile,ketfile):\n",
    "    key = dictionarykeyFile(keyfile)\n",
    "    key = key.items()\n",
    "    newkey = {}\n",
    "    for key,value in key.items():\n",
    "        new[value] = key\n",
    "    with open(encryptedfile,'r') as f:\n",
    "        encryptedfile = f.read().split('\\n')\n",
    "    with open('decryptredMarks.txt','w') as f:\n",
    "       \n",
    "        for encryptedmarks in encryptedfile:\n",
    "            line=' '\n",
    "            for n in encryptedmarks:\n",
    "                line += newkey[n]\n",
    "            f.write(line + '\\n')\n",
    "            \n",
    "                \n",
    "    "
   ]
  },
  {
   "cell_type": "code",
   "execution_count": null,
   "metadata": {},
   "outputs": [],
   "source": []
  },
  {
   "cell_type": "code",
   "execution_count": null,
   "metadata": {},
   "outputs": [],
   "source": []
  },
  {
   "cell_type": "code",
   "execution_count": null,
   "metadata": {},
   "outputs": [],
   "source": []
  },
  {
   "cell_type": "code",
   "execution_count": null,
   "metadata": {},
   "outputs": [],
   "source": []
  },
  {
   "cell_type": "code",
   "execution_count": null,
   "metadata": {},
   "outputs": [],
   "source": []
  },
  {
   "cell_type": "code",
   "execution_count": null,
   "metadata": {},
   "outputs": [],
   "source": [
    " \\\\"
   ]
  }
 ],
 "metadata": {
  "kernelspec": {
   "display_name": "Python 3",
   "language": "python",
   "name": "python3"
  },
  "language_info": {
   "codemirror_mode": {
    "name": "ipython",
    "version": 3
   },
   "file_extension": ".py",
   "mimetype": "text/x-python",
   "name": "python",
   "nbconvert_exporter": "python",
   "pygments_lexer": "ipython3",
   "version": "3.7.3"
  }
 },
 "nbformat": 4,
 "nbformat_minor": 2
}
